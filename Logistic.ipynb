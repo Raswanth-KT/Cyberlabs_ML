{
 "cells": [
  {
   "cell_type": "code",
   "execution_count": null,
   "id": "4b473bdf",
   "metadata": {},
   "outputs": [],
   "source": [
    "import numpy as np\n",
    "import pandas as pd\n",
    "from matplotlib import pyplot as plt\n",
    "\n",
    "data = pd.read_csv('emnist-letters-train.csv', header = None)\n"
   ]
  },
  {
   "cell_type": "code",
   "execution_count": null,
   "id": "90c5764c",
   "metadata": {},
   "outputs": [],
   "source": [
    "itterations = 100   #random big value \n",
    "alpha = 0.160 \n",
    "m = 1000\n",
    "cost_values = []\n",
    "trained_parameters = []\n",
    "X = data.iloc[0:1000,:785]\n",
    "X = X.T\n",
    "y = data.iloc[0:1000,0:1]\n",
    "y = np.array(y)\n",
    "#X = (X - X.mean())/ X.std()\n",
    "#y = (y - y.mean()) / y.std()\n",
    "print(y)"
   ]
  },
  {
   "cell_type": "code",
   "execution_count": null,
   "id": "6059d6df",
   "metadata": {},
   "outputs": [],
   "source": [
    "weights = np.random.randn(1,785)\n",
    "bias = 0 \n",
    "costfunc_values = []\n",
    "k = 0\n",
    "for i in range(1,itterations+1):\n",
    "  #logistic function\n",
    "  z = np.dot(weights,X) + bias \n",
    "  hypothesis = 1/(1 + np.exp(-z)) \n",
    "  #cost function\n",
    "  j = 1/m*(-1*(np.sum(y*np.log(hypothesis) + (1-y)*np.log(1-hypothesis))))\n",
    "  costfunc_values.append(j)\n",
    "  k+=1\n",
    "  #gradient decent\n",
    "  dw =  1/m * np.dot(hypothesis-y,X.T)\n",
    "  db =  1/m * np.sum(hypothesis-y)\n",
    "  weights = weights - alpha*dw\n",
    "  bias = bias - alpha*db\n",
    "  #stop training\n",
    "  if i%200 == 0:\n",
    "    print('running @ ',j)\n",
    "  if i%2 == 0:\n",
    "    if abs(j-costfunc_values[-2])<0.000001:\n",
    "      if abs(j-costfunc_values[-3])<0.000001:\n",
    "        break \n",
    "cost_values.append(costfunc_values)  \n",
    "trained_parameters.append([weights,bias])      \n",
    "print('itteration number:',k)\n",
    "weights.reshape(1000,785)"
   ]
  },
  {
   "cell_type": "code",
   "execution_count": null,
   "id": "261e3f00",
   "metadata": {},
   "outputs": [],
   "source": [
    "np.sum((hypothesis - y)**2)/1000"
   ]
  },
  {
   "cell_type": "code",
   "execution_count": null,
   "id": "96330088",
   "metadata": {},
   "outputs": [],
   "source": [
    "Y_test = np.array(Y_test)\n",
    "Y_test.T"
   ]
  },
  {
   "cell_type": "code",
   "execution_count": null,
   "id": "bfbcbdc7",
   "metadata": {},
   "outputs": [],
   "source": [
    "ls = []\n",
    "for i in range(1000):\n",
    "  ls.append(hypothesis[0][i])"
   ]
  },
  {
   "cell_type": "code",
   "execution_count": null,
   "id": "f0fb8b7d",
   "metadata": {},
   "outputs": [],
   "source": [
    "test_data = pd.read_csv('emnist-letters-test.csv', header = None)\n",
    "X_test = test_data.iloc[:1000,:785]\n",
    "Y_test = test_data.iloc[:1000,0:1]\n",
    "weights = trained_parameters[0][0]\n",
    "bias = trained_parameters[0][1]\n",
    "correct_predictions = 0 \n",
    "for i in range(1000):\n",
    "  z = np.dot(weights,X_test.iloc[i,:])+bias\n",
    "  #weights = weights[0]\n",
    "  print(weights.shape)\n",
    "  #print(X.T)\n",
    "  #print(z[0])\n",
    "  hypothesis = 1/(1 + np.exp(-z))\n",
    "  #hypothesis = hypothesis[0]\n",
    "  #print(hypothesis)\n",
    "  if ls[i]>= 0.5:\n",
    "    if Y_test[0][i] == 1:\n",
    "      correct_predictions+=1\n",
    "  if ls[i] < 0.5:\n",
    "    if Y_test[0][i] == 0:\n",
    "      correct_predictions+=1   \n",
    "print(correct_predictions)\n",
    "acc = (correct_predictions/1000)*100\n",
    "print('accuracy for dataset '+str(data),\" = \",acc)"
   ]
  },
  {
   "cell_type": "code",
   "execution_count": null,
   "id": "6c15ad97",
   "metadata": {},
   "outputs": [],
   "source": [
    "Y_test"
   ]
  }
 ],
 "metadata": {
  "kernelspec": {
   "display_name": "Python 3 (ipykernel)",
   "language": "python",
   "name": "python3"
  },
  "language_info": {
   "codemirror_mode": {
    "name": "ipython",
    "version": 3
   },
   "file_extension": ".py",
   "mimetype": "text/x-python",
   "name": "python",
   "nbconvert_exporter": "python",
   "pygments_lexer": "ipython3",
   "version": "3.9.7"
  }
 },
 "nbformat": 4,
 "nbformat_minor": 5
}
