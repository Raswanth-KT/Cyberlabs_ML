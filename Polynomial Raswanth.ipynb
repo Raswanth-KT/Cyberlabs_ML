{
 "cells": [
  {
   "cell_type": "code",
   "execution_count": 1,
   "id": "8ce996a3",
   "metadata": {},
   "outputs": [],
   "source": [
    "import numpy as np\n",
    "import pandas as pd\n",
    "import matplotlib.pyplot as plt\n",
    "from sklearn.metrics import r2_score"
   ]
  },
  {
   "cell_type": "code",
   "execution_count": 2,
   "id": "8d8dd7e2",
   "metadata": {},
   "outputs": [],
   "source": [
    "#Complete Dataset of Training and Testing\n",
    "data1 = pd.read_csv(\"Polynomial_train.csv\")\n",
    "data2 = pd.read_csv(\"Polynomial_test.csv\")"
   ]
  },
  {
   "cell_type": "code",
   "execution_count": 3,
   "id": "acf09b63",
   "metadata": {},
   "outputs": [],
   "source": [
    "A = data1.drop(data1.columns[[0]], axis=1) \n",
    "B = data2.drop(data1.columns[[0]], axis=1)  "
   ]
  },
  {
   "cell_type": "code",
   "execution_count": 4,
   "id": "7a1c173c",
   "metadata": {},
   "outputs": [],
   "source": [
    "train_data = data1.values\n",
    "Y = train_data[:, -1].reshape(train_data.shape[0], 1)  #Labels of Training dataset"
   ]
  },
  {
   "cell_type": "code",
   "execution_count": 5,
   "id": "2d8d3543",
   "metadata": {},
   "outputs": [],
   "source": [
    "test_data = data2.values\n",
    "Y_test = test_data[:, -1].reshape(test_data.shape[0], 1)   #Labels of Testing dataset "
   ]
  },
  {
   "cell_type": "code",
   "execution_count": 6,
   "id": "c2e86cc5",
   "metadata": {},
   "outputs": [],
   "source": [
    "n = np.square(A)\n",
    "A = np.concatenate((A, n), axis=1)\n",
    "\n",
    "m = np.square(B)\n",
    "B = np.concatenate((B, m), axis=1)"
   ]
  },
  {
   "cell_type": "code",
   "execution_count": 7,
   "id": "a428f7ff",
   "metadata": {},
   "outputs": [
    {
     "data": {
      "text/plain": [
       "array([[ 1.60297505,  0.05720184,  1.03462937, ..., -1.11072208,\n",
       "         0.07928157, -0.40621349],\n",
       "       [ 0.47468023,  1.04970951,  1.10975544, ...,  0.14737198,\n",
       "         0.25988848, -0.45993234],\n",
       "       [-0.47538427,  1.33246805, -1.1986559 , ...,  0.90829023,\n",
       "         0.48925718, -0.57594677],\n",
       "       ...,\n",
       "       [ 1.13830576,  1.17479815,  0.77993999, ...,  0.46197752,\n",
       "        -0.43884384,  0.66975758],\n",
       "       [-1.09803786,  0.21485319, -0.67750819, ..., -1.05779564,\n",
       "        -0.60661474, -0.57798017],\n",
       "       [ 1.42406529, -0.07871527,  0.36279375, ..., -1.11181417,\n",
       "        -0.97331028, -0.57651361]])"
      ]
     },
     "execution_count": 7,
     "metadata": {},
     "output_type": "execute_result"
    }
   ],
   "source": [
    "mean = np.mean(A, axis=0)\n",
    "std = np.std(A, axis=0)\n",
    "train_f = (A - mean)/std\n",
    "train_f                     #Normalized features of training set\n",
    "\n",
    "mean_test = np.mean(B, axis=0)\n",
    "std = np.std(B, axis=0)\n",
    "test_f = (B - mean_test)/std\n",
    "test_f                     #Normalized features of testing set"
   ]
  },
  {
   "cell_type": "code",
   "execution_count": 8,
   "id": "9411683e",
   "metadata": {},
   "outputs": [],
   "source": [
    " #Adding column of ones before all the Features\n",
    "train_f = np.vstack((np.ones((train_f.shape[0], )), train_f.T)).T\n",
    "test_f = np.vstack((np.ones((test_f.shape[0], )), test_f.T)).T"
   ]
  },
  {
   "cell_type": "code",
   "execution_count": 9,
   "id": "a7378d34",
   "metadata": {},
   "outputs": [],
   "source": [
    "def PolynomialRegression(X, Y, lr, iter):\n",
    "    m = Y.size\n",
    "    theta = np.zeros((X.shape[1], 1))\n",
    "    cost_list = []\n",
    "    for i in range(iter):        \n",
    "        y_p = np.dot(X, theta)\n",
    "        \n",
    "        #Cost Function\n",
    "        cost = (1/(2*m))*np.sum(np.square(y_p - Y))\n",
    "        \n",
    "        #Gradient Descent\n",
    "        d_theta = (np.dot(X.T, y_p - Y))*(1/m)\n",
    "        theta = theta - lr*d_theta\n",
    "        \n",
    "        cost_list.append(cost)\n",
    "        if (i%(iter/10) == 0):\n",
    "            print(\"Cost is :\", cost)\n",
    "        \n",
    "    return theta, cost_list"
   ]
  },
  {
   "cell_type": "code",
   "execution_count": 10,
   "id": "15d3c1c9",
   "metadata": {},
   "outputs": [
    {
     "name": "stdout",
     "output_type": "stream",
     "text": [
      "Cost is : 727099.5504780577\n",
      "Cost is : 250761.46134490328\n",
      "Cost is : 92141.90088437928\n",
      "Cost is : 36035.511955726775\n",
      "Cost is : 15129.409641537832\n",
      "Cost is : 6919.033489901726\n",
      "Cost is : 3491.5038558401952\n",
      "Cost is : 1948.5172981779665\n",
      "Cost is : 1188.2829666779137\n",
      "Cost is : 775.4181083198425\n"
     ]
    }
   ],
   "source": [
    "iter = 100\n",
    "lr = 0.05\n",
    "theta, cost_list = PolynomialRegression(test_f, Y_test, lr = lr, iter = iter)"
   ]
  },
  {
   "cell_type": "code",
   "execution_count": 11,
   "id": "5af2adc9",
   "metadata": {},
   "outputs": [
    {
     "data": {
      "text/plain": [
       "[<matplotlib.lines.Line2D at 0x258d9595df0>,\n",
       " <matplotlib.lines.Line2D at 0x258d9595d30>,\n",
       " <matplotlib.lines.Line2D at 0x258d9595f10>,\n",
       " <matplotlib.lines.Line2D at 0x258d95a8070>,\n",
       " <matplotlib.lines.Line2D at 0x258d95a8190>,\n",
       " <matplotlib.lines.Line2D at 0x258d95a82b0>,\n",
       " <matplotlib.lines.Line2D at 0x258d95a83d0>,\n",
       " <matplotlib.lines.Line2D at 0x258d95a84f0>,\n",
       " <matplotlib.lines.Line2D at 0x258d95a8610>]"
      ]
     },
     "execution_count": 11,
     "metadata": {},
     "output_type": "execute_result"
    },
    {
     "data": {
      "image/png": "[encoded data removed]",
      "text/plain": [
       "<Figure size 432x288 with 1 Axes>"
      ]
     },
     "metadata": {
      "needs_background": "light"
     },
     "output_type": "display_data"
    }
   ],
   "source": [
    "plt.plot(test_f, Y_test, 'rx')"
   ]
  },
  {
   "cell_type": "code",
   "execution_count": 12,
   "id": "4aee22c6",
   "metadata": {},
   "outputs": [
    {
     "data": {
      "text/plain": [
       "24.91085909572674"
      ]
     },
     "execution_count": 12,
     "metadata": {},
     "output_type": "execute_result"
    }
   ],
   "source": [
    "y_p = np.dot(test_f, theta)\n",
    "error = (1/test_f.shape[0])*(np.sum(np.abs(y_p - Y_test)))\n",
    "error"
   ]
  },
  {
   "cell_type": "code",
   "execution_count": 13,
   "id": "ad2e34f1",
   "metadata": {},
   "outputs": [
    {
     "data": {
      "text/plain": [
       "32.55314460699144"
      ]
     },
     "execution_count": 13,
     "metadata": {},
     "output_type": "execute_result"
    }
   ],
   "source": [
    "m = Y_test.size\n",
    "rmse = np.sqrt(np.sum(np.square(y_p - Y_test))/m)\n",
    "rmse"
   ]
  },
  {
   "cell_type": "code",
   "execution_count": 14,
   "id": "fb83f584",
   "metadata": {},
   "outputs": [
    {
     "data": {
      "text/plain": [
       "0.9992710293738281"
      ]
     },
     "execution_count": 14,
     "metadata": {},
     "output_type": "execute_result"
    }
   ],
   "source": [
    "r2_score(Y_test, y_p)"
   ]
  },
  {
   "cell_type": "code",
   "execution_count": null,
   "id": "d20843b2",
   "metadata": {},
   "outputs": [],
   "source": []
  }
 ],
 "metadata": {
  "kernelspec": {
   "display_name": "Python 3 (ipykernel)",
   "language": "python",
   "name": "python3"
  },
  "language_info": {
   "codemirror_mode": {
    "name": "ipython",
    "version": 3
   },
   "file_extension": ".py",
   "mimetype": "text/x-python",
   "name": "python",
   "nbconvert_exporter": "python",
   "pygments_lexer": "ipython3",
   "version": "3.9.7"
  }
 },
 "nbformat": 4,
 "nbformat_minor": 5
}
