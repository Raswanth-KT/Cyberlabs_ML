{
 "cells": [
  {
   "cell_type": "code",
   "execution_count": 1,
   "id": "bcb9e31e",
   "metadata": {},
   "outputs": [],
   "source": [
    "import numpy as np\n",
    "import pandas as pd\n",
    "import matplotlib.pyplot as plt\n",
    "import statistics\n",
    "import math"
   ]
  },
  {
   "cell_type": "code",
   "execution_count": 5,
   "id": "928d57b2",
   "metadata": {},
   "outputs": [],
   "source": [
    "X = pd.read_csv(\"emnist-letters-train.csv\")\n",
    "Y = X.iloc[:,0].values"
   ]
  },
  {
   "cell_type": "code",
   "execution_count": 6,
   "id": "67313d9e",
   "metadata": {},
   "outputs": [],
   "source": [
    "def Euclidean(x1,x2):\n",
    "    return math.sqrt(np.sum((x1-x2)**2))"
   ]
  },
  {
   "cell_type": "code",
   "execution_count": 7,
   "id": "5bb5ffa4",
   "metadata": {},
   "outputs": [],
   "source": [
    "class KNN:\n",
    "    def __init__(self,x_train,x1,k = 10):\n",
    "        self.k = k\n",
    "        self.x_train = x_train\n",
    "        self.x1 = x1\n",
    "        \n",
    "    def knn(self):\n",
    "        num = []\n",
    "        count = []\n",
    "        for i in range(y_train.size):\n",
    "            num += [Euclidean(self.x_train[i],self.x1)]\n",
    "        num1 = sorted(num)\n",
    "        for j in range(self.k):  \n",
    "            count += [y_train[num.index(num1[j])]] \n",
    "        return statistics.mode(count)"
   ]
  },
  {
   "cell_type": "code",
   "execution_count": null,
   "id": "84e5471b",
   "metadata": {},
   "outputs": [],
   "source": []
  }
 ],
 "metadata": {
  "kernelspec": {
   "display_name": "Python 3 (ipykernel)",
   "language": "python",
   "name": "python3"
  },
  "language_info": {
   "codemirror_mode": {
    "name": "ipython",
    "version": 3
   },
   "file_extension": ".py",
   "mimetype": "text/x-python",
   "name": "python",
   "nbconvert_exporter": "python",
   "pygments_lexer": "ipython3",
   "version": "3.9.7"
  }
 },
 "nbformat": 4,
 "nbformat_minor": 5
}
